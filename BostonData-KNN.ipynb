{
 "cells": [
  {
   "cell_type": "code",
   "execution_count": 1,
   "metadata": {
    "collapsed": false
   },
   "outputs": [],
   "source": [
    "import IPython\n",
    "import numpy as np\n",
    "import scipy as sp\n",
    "import pandas as pd\n",
    "import matplotlib\n",
    "import sklearn"
   ]
  },
  {
   "cell_type": "code",
   "execution_count": 2,
   "metadata": {
    "collapsed": false
   },
   "outputs": [],
   "source": [
    "from sklearn.datasets import load_boston\n",
    "bostondata = load_boston()"
   ]
  },
  {
   "cell_type": "markdown",
   "metadata": {},
   "source": [
    "The following commands will provide some basic information about the shape of the data:"
   ]
  },
  {
   "cell_type": "code",
   "execution_count": 188,
   "metadata": {
    "collapsed": false
   },
   "outputs": [
    {
     "name": "stdout",
     "output_type": "stream",
     "text": [
      "['data', 'feature_names', 'DESCR', 'target']\n",
      "['CRIM' 'ZN' 'INDUS' 'CHAS' 'NOX' 'RM' 'AGE' 'DIS' 'RAD' 'TAX' 'PTRATIO'\n",
      " 'B' 'LSTAT']\n",
      "(506, 13)\n",
      "(506,)\n"
     ]
    }
   ],
   "source": [
    "print bostondata.keys()\n",
    "print bostondata.feature_names\n",
    "print bostondata.data.shape\n",
    "print bostondata.target.shape\n",
    "# uncomment the following if you want to see a lengthy description of the dataset\n",
    "# print bostondata.DESCR"
   ]
  },
  {
   "cell_type": "code",
   "execution_count": 4,
   "metadata": {
    "collapsed": false
   },
   "outputs": [
    {
     "name": "stdout",
     "output_type": "stream",
     "text": [
      "      CRIM  ZN  INDUS  CHAS    NOX     RM   AGE     DIS  RAD  TAX  PTRATIO  \\\n",
      "0  0.00632  18   2.31     0  0.538  6.575  65.2  4.0900    1  296     15.3   \n",
      "1  0.02731   0   7.07     0  0.469  6.421  78.9  4.9671    2  242     17.8   \n",
      "2  0.02729   0   7.07     0  0.469  7.185  61.1  4.9671    2  242     17.8   \n",
      "3  0.03237   0   2.18     0  0.458  6.998  45.8  6.0622    3  222     18.7   \n",
      "4  0.06905   0   2.18     0  0.458  7.147  54.2  6.0622    3  222     18.7   \n",
      "\n",
      "        B  LSTAT  MEDV  \n",
      "0  396.90   4.98  24.0  \n",
      "1  396.90   9.14  21.6  \n",
      "2  392.83   4.03  34.7  \n",
      "3  394.63   2.94  33.4  \n",
      "4  396.90   5.33  36.2  \n"
     ]
    }
   ],
   "source": [
    "# Convert Boston data into a DataFrame\n",
    "bdata = pd.DataFrame(bostondata.data)\n",
    "bdata.columns = bostondata.feature_names\n",
    "bdata[\"MEDV\"] = bostondata.target\n",
    "print bdata.head()\n"
   ]
  },
  {
   "cell_type": "markdown",
   "metadata": {},
   "source": [
    "---\n",
    "\n",
    "##Part 1: Descriptive analysis\n",
    "\n",
    "Before beginning the \"real\" work, dig into the data a bit do see what we're dealing with.  \n",
    "\n",
    "###: Histogram of housing prices\n",
    "\n"
   ]
  },
  {
   "cell_type": "code",
   "execution_count": 135,
   "metadata": {
    "collapsed": false
   },
   "outputs": [
    {
     "data": {
      "text/plain": [
       "<matplotlib.text.Text at 0xa2c70f0>"
      ]
     },
     "execution_count": 135,
     "metadata": {},
     "output_type": "execute_result"
    },
    {
     "data": {
      "image/png": "[encoded data removed]",
      "text/plain": [
       "<matplotlib.figure.Figure at 0xa87ac90>"
      ]
     },
     "metadata": {},
     "output_type": "display_data"
    }
   ],
   "source": [
    "# prepare IPython to work with matplotlib and import the library to something convenient\n",
    "%matplotlib inline  \n",
    "import matplotlib.pyplot as plt  \n",
    "\n",
    "ax = plt.subplot(111)\n",
    "ax.hist(bostondata.target,bins=45,color=\"g\")\n",
    "# Set the labels\n",
    "ax.set_xlabel(\"Median Home Prices in 1000$\")\n",
    "ax.set_ylabel(\"Frequency\")\n",
    "# Hide the right and top spines\n",
    "ax.spines['right'].set_visible(False)\n",
    "ax.spines['top'].set_visible(False)\n",
    "ax.tick_params(top='off', right='off')\n",
    "ax.set_title(\"Distribution of median house values\")"
   ]
  },
  {
   "cell_type": "markdown",
   "metadata": {},
   "source": [
    "###: Scatter plot of housing prices and crime\n"
   ]
  },
  {
   "cell_type": "code",
   "execution_count": 141,
   "metadata": {
    "collapsed": false
   },
   "outputs": [
    {
     "data": {
      "image/png": "[encoded data removed]",
      "text/plain": [
       "<matplotlib.figure.Figure at 0xacffbb0>"
      ]
     },
     "metadata": {},
     "output_type": "display_data"
    }
   ],
   "source": [
    "ax = plt.subplot(111)\n",
    "ax.scatter(bdata.CRIM,bdata.MEDV,color=\"g\")\n",
    "# Set the labels\n",
    "ax.set_ylabel(\"Median Home Prices in 1000$\")\n",
    "ax.set_xlabel(\"Per capita Crime Rate\")\n",
    "# Hide the right and top spines\n",
    "ax.spines['right'].set_visible(False)\n",
    "ax.spines['top'].set_visible(False)\n",
    "ax.set_title(\"Median house value vs per capita crime rate\")\n",
    "ax.tick_params(labelcolor='seagreen', top='off', right='off')\n"
   ]
  },
  {
   "cell_type": "markdown",
   "metadata": {},
   "source": [
    "###: Another visualization of the data"
   ]
  },
  {
   "cell_type": "code",
   "execution_count": 139,
   "metadata": {
    "collapsed": false
   },
   "outputs": [
    {
     "data": {
      "image/png": "[encoded data removed]",
      "text/plain": [
       "<matplotlib.figure.Figure at 0xa1ade30>"
      ]
     },
     "metadata": {},
     "output_type": "display_data"
    }
   ],
   "source": [
    "# enter your code here\n",
    "ax = plt.subplot(111)\n",
    "ax.scatter(bdata.MEDV,bdata.DIS,color=\"g\")\n",
    "ax.set_alpha(0.5)\n",
    "ax.scatter(bdata.MEDV,bdata.RM,color=\"b\")\n",
    "ax.set_alpha(0.5)\n",
    "ax.set_xlabel(\"Median Home Prices in 1000$\")\n",
    "plt.legend(('Distance','Number of Rooms'),)\n",
    "# Hide the right and top spines\n",
    "ax.spines['right'].set_visible(False)\n",
    "ax.spines['top'].set_visible(False)\n",
    "ax.set_title(\"Median house value vs Number of rooms and Distance\")\n",
    "ax.tick_params(labelcolor='grey', top='off', right='off')"
   ]
  },
  {
   "cell_type": "markdown",
   "metadata": {},
   "source": [
    "A function to calculate Root Mean squared error of the data"
   ]
  },
  {
   "cell_type": "code",
   "execution_count": 8,
   "metadata": {
    "collapsed": false
   },
   "outputs": [
    {
     "name": "stdout",
     "output_type": "stream",
     "text": [
      "2.08166599947\n"
     ]
    }
   ],
   "source": [
    "\"\"\"\n",
    "Function\n",
    "--------\n",
    "compute_rmse\n",
    "\n",
    "Given two arrays, one of actual values and one of predicted values,\n",
    "compute the Roote Mean Squared Error\n",
    "\n",
    "Parameters\n",
    "----------\n",
    "predictions : array\n",
    "    Array of numerical values corresponding to predictions for each of the N observations\n",
    "\n",
    "yvalues : array\n",
    "    Array of numerical values corresponding to the actual values for each of the N observations\n",
    "\n",
    "Returns\n",
    "-------\n",
    "rmse : int\n",
    "    Root Mean Squared Error of the prediction\n",
    "\n",
    "Example\n",
    "-------\n",
    ">>> print compute_rmse((2,2,3),(0,2,6)\n",
    "2.16\n",
    "\"\"\"\n",
    "def compute_rmse(predictions, yvalues):\n",
    "    # Ensure both the arrays have same size\n",
    "    if len(predictions) == len(yvalues):\n",
    "        # Cast the data into the np array format\n",
    "        predictions = np.array(predictions)\n",
    "        yvalues = np.array(yvalues)\n",
    "        # Square the error and take mean and then sqrt\n",
    "        rmse = np.sqrt(((predictions - yvalues) ** 2).mean())\n",
    "        return rmse\n",
    "    else:\n",
    "        return \"Array length should be same\"\n",
    "\n",
    "print compute_rmse((2,2,3),(0,2,6))\n",
    "    "
   ]
  },
  {
   "cell_type": "markdown",
   "metadata": {},
   "source": [
    "###:Divide your data into training and testing datasets (66-34)\n"
   ]
  },
  {
   "cell_type": "code",
   "execution_count": 142,
   "metadata": {
    "collapsed": false
   },
   "outputs": [
    {
     "name": "stdout",
     "output_type": "stream",
     "text": [
      "173 333\n"
     ]
    }
   ],
   "source": [
    "# leave the following line untouched, it will help ensure that your \"random\" split is the same \"random\" split used by the rest of the class\n",
    "np.random.seed(seed=13579)\n",
    "from sklearn.cross_validation import train_test_split\n",
    "# Split into train and test set\n",
    "bdata_train,bdata_test = sklearn.cross_validation.train_test_split(bdata, test_size = 0.34) \n",
    "print len(bdata_test),len(bdata_train)"
   ]
  },
  {
   "cell_type": "markdown",
   "metadata": {},
   "source": [
    "###: A very bad baseline to calculate the data. Assuming mean of the median values as the predicted value"
   ]
  },
  {
   "cell_type": "code",
   "execution_count": 144,
   "metadata": {
    "collapsed": false
   },
   "outputs": [
    {
     "name": "stdout",
     "output_type": "stream",
     "text": [
      "9.43068967879\n",
      "8.74957418914\n"
     ]
    }
   ],
   "source": [
    "# Predict median home value as the mean\n",
    "medhomeval = np.mean(bdata_train[\"MEDV\"])\n",
    "\n",
    "# Compute RMSE for the predicted value for train data\n",
    "predicted_train = [medhomeval for i in xrange(len(bdata_train))]\n",
    "print compute_rmse(tuple(predicted_train),tuple(bdata_train[\"MEDV\"]))\n",
    "\n",
    "# Compute RMSE for the predicted value for train data\n",
    "predicted_test = [medhomeval for i in xrange(len(bdata_test))]\n",
    "print compute_rmse(tuple(predicted_test), tuple(bdata_test[\"MEDV\"]))\n"
   ]
  },
  {
   "cell_type": "markdown",
   "metadata": {},
   "source": [
    "The RMSE of the training set is 9.43 while the RMSE for the test set is 8.4795. The RMSE's are almost in the same range as is expected since the training and test set has been randomly assigned"
   ]
  },
  {
   "cell_type": "markdown",
   "metadata": {},
   "source": [
    "---\n",
    "\n",
    "##: Nearest Neighbors\n"
   ]
  },
  {
   "cell_type": "markdown",
   "metadata": {},
   "source": [
    "Lets analyze the data using a Nearest Neighbor algorithm. To do this lets first make a distance function that calculates the L norm distance"
   ]
  },
  {
   "cell_type": "code",
   "execution_count": 23,
   "metadata": {
    "collapsed": false
   },
   "outputs": [
    {
     "name": "stdout",
     "output_type": "stream",
     "text": [
      "5.0\n"
     ]
    }
   ],
   "source": [
    "\"\"\"\n",
    "Function\n",
    "--------\n",
    "distance\n",
    "\n",
    "Given two instances and a value for L, return the L-Norm distance between them\n",
    "\n",
    "Parameters\n",
    "----------\n",
    "x1, x2 : array\n",
    "    Array of numerical values corresponding to predictions for each of the N observations\n",
    "\n",
    "L: int\n",
    "    Value of L to use in computing distances\n",
    "\n",
    "Returns\n",
    "-------\n",
    "dist : int\n",
    "    The L-norm distance between instances\n",
    "\n",
    "Example\n",
    "-------\n",
    ">>> print distance((3,4),(6,8),2)\n",
    "7\n",
    "\n",
    "\"\"\"\n",
    "def distance(x1, x2, L):\n",
    "    #Check if length is equal\n",
    "    if len(x1) == len(x2):\n",
    "        #Calulate the L norm distance between the points\n",
    "        dist = np.power(sum([np.power(x2[i]-x1[i],L) for i in range(len(x1))]),(1./L))\n",
    "        return dist\n",
    "    else:\n",
    "        return \"Length of the input arrays should be equal\"\n",
    "print distance((3,4),(6,8),2)"
   ]
  },
  {
   "cell_type": "markdown",
   "metadata": {},
   "source": [
    "###: Basic Nearest Neighbor algorithm\n",
    "The goal is to implement a basic nearest neighbor algorithm from scratch.  The simple model will use two input features (CRIM and RM) and a single output (MEDV).  We are modelling the relationship between median home value and crime rates and house size.\n",
    "\n",
    "Use the training data (bdata_train) to \"fit\" the model, although, with Nearest Neighbors there is no real training, you just need to keep the training data in memory.  The function predicts, for each instance in the testing data (bdata_test), the median home value using the nearest neighbor algorithm.  Since this is a small dataset, you can simply compare your test instance to every instance in the training set, and return the MEDV value of the closest training instance.  The function takes L as an input, where L is passed to the distance function.\n",
    "\n",
    "The function also computes the RMSE for the Nearest Neighbor predictions on the test set, using the Euclidean distance.  The time estimate of the total time taken by teh code to predict the nearest neighbors for all the values in the test data set is also calculated."
   ]
  },
  {
   "cell_type": "code",
   "execution_count": 64,
   "metadata": {
    "collapsed": false
   },
   "outputs": [
    {
     "name": "stdout",
     "output_type": "stream",
     "text": [
      "Time taken: 0.51 seconds\n"
     ]
    },
    {
     "data": {
      "text/plain": [
       "6.6810100998095514"
      ]
     },
     "execution_count": 64,
     "metadata": {},
     "output_type": "execute_result"
    }
   ],
   "source": [
    "\"\"\"\n",
    "Function\n",
    "--------\n",
    "nneighbor\n",
    "\n",
    "Given features and a value for L, return the RMSE of the model\n",
    "\n",
    "Parameters\n",
    "----------\n",
    "train_data : tuple\n",
    "    DataFrame of features to be considered for the model as a tuple and the output \n",
    "    \n",
    "test_data : tuple\n",
    "    DataFrame of features to be considered for the model and the actual output\n",
    "\n",
    "L: int\n",
    "    Value of L to use in computing distances\n",
    "\n",
    "Returns\n",
    "-------\n",
    "rmse : int\n",
    "    The RMSE of the model\n",
    "\n",
    "Example\n",
    "-------\n",
    ">>> print nneighbor(['CRIM','RM'],2)\n",
    "6.68101\n",
    "\"\"\"\n",
    "\n",
    "import time\n",
    "def nneighbor(train_data,test_data, L,verbose=False):\n",
    "    start_time = time.time()\n",
    "    # Predict the nearest neighbor\n",
    "    predicted_op=[]\n",
    "    for row in test_data:\n",
    "        dist = [(distance(tr[0],row[0],L),tr[1]) for tr in train_data]\n",
    "        predicted_op.append(min(dist,key=lambda t: t[0])[1])\n",
    "    rmse = compute_rmse(predicted_op,[t[1] for t in test_data])\n",
    "    if verbose:\n",
    "        print \"Time taken: \" + str(round(time.time() - start_time,2)) + \" seconds\"\n",
    "    return rmse\n",
    "\n",
    "#your additional code here\n",
    "tr_data = [((tr[\"CRIM\"],tr[\"RM\"]),tr[\"MEDV\"]) for ind,tr in bdata_train.iterrows()]\n",
    "tt_data = [((tt[\"CRIM\"],tt[\"RM\"]),tt[\"MEDV\"]) for ind,tt in bdata_test.iterrows()]\n",
    "# print tr_data\n",
    "nneighbor(tr_data,tt_data,2,True)"
   ]
  },
  {
   "cell_type": "markdown",
   "metadata": {},
   "source": [
    "The code takes ~0.51sec to run. For the test set the RMSE is 6.681"
   ]
  },
  {
   "cell_type": "markdown",
   "metadata": {},
   "source": [
    "###:Normalization\n",
    "\n",
    "The data is not normalized which is a big no-no in terms of Nerarest Neighbors algorithm.  The normalize function is a generic normalization function that takes as input an array of values for a given feature, and returns the normalized array (subtract the mean and divide by the standard deviation).\n",
    "\n",
    "I also re run the nneighbor on the normalized data"
   ]
  },
  {
   "cell_type": "code",
   "execution_count": 173,
   "metadata": {
    "collapsed": false
   },
   "outputs": [
    {
     "data": {
      "text/plain": [
       "6.8009732387519106"
      ]
     },
     "execution_count": 173,
     "metadata": {},
     "output_type": "execute_result"
    }
   ],
   "source": [
    "\"\"\"\n",
    "Function\n",
    "--------\n",
    "normalize\n",
    "\n",
    "Given a raw_data, normalize and return the normalized data\n",
    "\n",
    "Parameters\n",
    "----------\n",
    "raw_data : array\n",
    "    The list of data to be normalized \n",
    "\n",
    "Returns\n",
    "-------\n",
    "normalized_data : array\n",
    "    The normalized array for the raw_data\n",
    "\n",
    "Example\n",
    "-------\n",
    ">>> print normalize(bdata_test[\"RM\"])\n",
    "\"\"\"\n",
    "def normalize(raw_data):\n",
    "    #your code here\n",
    "    m = np.mean(raw_data)\n",
    "    stdv = np.std(raw_data)\n",
    "    normalized_data = [(x-m)/stdv for x in raw_data]\n",
    "    return normalized_data\n",
    "\n",
    "#Create the dataframe to hold the normalized data\n",
    "bdata_test_normalized = pd.DataFrame()\n",
    "bdata_train_normalized = pd.DataFrame()\n",
    "# For every column normalize the data except for the median value\n",
    "for col in bdata_train:\n",
    "    if col != \"MEDV\":\n",
    "        bdata_test_normalized[col] = normalize(bdata_test[col])\n",
    "        bdata_train_normalized[col] = normalize(bdata_train[col])\n",
    "    else:\n",
    "        bdata_test_normalized[col] = bdata_test[col].values.tolist()\n",
    "        bdata_train_normalized[col] = bdata_train[col].values.tolist()\n",
    "tr_data = [((tr[\"CRIM\"],tr[\"RM\"]),tr[\"MEDV\"]) for ind,tr in bdata_train_normalized.iterrows()]\n",
    "tt_data = [((tt[\"CRIM\"],tt[\"RM\"]),tt[\"MEDV\"]) for ind,tt in bdata_test_normalized.iterrows()]\n",
    "# print tr_data\n",
    "nneighbor(tr_data,tt_data,2)"
   ]
  },
  {
   "cell_type": "markdown",
   "metadata": {},
   "source": [
    "The RMSE in before normalization was 6.68 and after normalization has been 6.800. I have normalized all the features in the dataset but not the output variables."
   ]
  },
  {
   "cell_type": "markdown",
   "metadata": {},
   "source": [
    "###Adding more features\n",
    " We have used the same set of features until not. Let's explore what happens as we add more features"
   ]
  },
  {
   "cell_type": "code",
   "execution_count": 175,
   "metadata": {
    "collapsed": false
   },
   "outputs": [
    {
     "name": "stdout",
     "output_type": "stream",
     "text": [
      "Adding DIS into the equation\n",
      "Time taken: 0.65 seconds\n",
      "6.36819681196\n",
      "Adding NOX into the equation\n",
      "Time taken: 0.81 seconds\n",
      "5.86041881358\n"
     ]
    }
   ],
   "source": [
    "# Try adding DIS as a feature\n",
    "tr_data = [((tr[\"CRIM\"],tr[\"RM\"],tr[\"DIS\"]),tr[\"MEDV\"]) for ind,tr in bdata_train_normalized.iterrows()]\n",
    "tt_data = [((tt[\"CRIM\"],tt[\"RM\"],tt[\"DIS\"]),tt[\"MEDV\"]) for ind,tt in bdata_test_normalized.iterrows()]\n",
    "# print tr_data\n",
    "print \"Adding DIS into the equation\"\n",
    "print nneighbor(tr_data,tt_data,2,True)\n",
    "\n",
    "\n",
    "tr_data = [((tr[\"CRIM\"],tr[\"RM\"],tr[\"DIS\"],tr[\"NOX\"]),tr[\"MEDV\"]) for ind,tr in bdata_train_normalized.iterrows()]\n",
    "tt_data = [((tt[\"CRIM\"],tt[\"RM\"],tt[\"DIS\"],tt[\"NOX\"]),tt[\"MEDV\"]) for ind,tt in bdata_test_normalized.iterrows()]\n",
    "# print tr_data\n",
    "print \"Adding NOX into the equation\"\n",
    "print nneighbor(tr_data,tt_data,2,True)"
   ]
  },
  {
   "cell_type": "markdown",
   "metadata": {},
   "source": [
    "Adding DIS to the equation reduced the RMSE to 6.36. Further the RMSE reduced to 5.86 as I added NOX as a feature. The running time of the algorithm also increases as new features are added. It went from 0.65sec to 0.81 sec as I added DIS and then NOX respectively."
   ]
  },
  {
   "cell_type": "markdown",
   "metadata": {},
   "source": [
    "###: Cross-Validation\n",
    "\n",
    "Over fitting is one of the biggest issues we can face in creating a good model. Below I have created a k fold cross validation function that validates the data. "
   ]
  },
  {
   "cell_type": "code",
   "execution_count": 182,
   "metadata": {
    "collapsed": false
   },
   "outputs": [
    {
     "name": "stdout",
     "output_type": "stream",
     "text": [
      "K: 1 RMSE:  9.74210087259\n",
      "K: 2 RMSE:  9.05994740927\n",
      "K: 3 RMSE:  4.59382577969\n",
      "K: 4 RMSE:  6.75528973427\n",
      "K: 5 RMSE:  7.74565371774\n",
      "K: 6 RMSE:  10.0253466652\n",
      "K: 7 RMSE:  7.42530480958\n",
      "K: 8 RMSE:  8.6385675019\n",
      "K: 9 RMSE:  7.53271652074\n",
      "K: 10 RMSE:  4.45791770932\n",
      "Time taken: 0.98 seconds\n"
     ]
    },
    {
     "data": {
      "text/plain": [
       "7.5976670720303856"
      ]
     },
     "execution_count": 182,
     "metadata": {},
     "output_type": "execute_result"
    }
   ],
   "source": [
    "\"\"\"\n",
    "Function\n",
    "--------\n",
    "k_fold_cross_validation\n",
    "\n",
    "Perform a k fold cross validation\n",
    "\n",
    "Parameters\n",
    "----------\n",
    "K : int\n",
    "    The number of folds required\n",
    "\n",
    "data : array\n",
    "    The list of data to be used for k fold validation\n",
    "    \n",
    "method: string\n",
    "    The type of method i.e nneighbors or knn\n",
    "    \n",
    "knn: int\n",
    "    The number of neighbors to be considered for knn\n",
    "\n",
    "Returns\n",
    "-------\n",
    "mean_rmse : number\n",
    "    The mean RMSE of the k fold validation \n",
    "\n",
    "Example\n",
    "-------\n",
    ">>> print k_fold_cross_validation(10,kdata,\"nneighbor\")\n",
    "7.59766\n",
    "\"\"\"\n",
    "def k_fold_cross_validation(K,data,method,kn=1,verbose=False):\n",
    "    start_time = time.time()\n",
    "    output_rmse = []\n",
    "    n = len(data)\n",
    "    for fold in xrange(K):\n",
    "        tr_data=[]\n",
    "        tt_data=[]\n",
    "        for i in xrange(n):\n",
    "            if i % K != fold:\n",
    "                tr_data.append(data[i])\n",
    "            else:\n",
    "                tt_data.append(data[i])\n",
    "        if method == \"nneighbor\":\n",
    "            output_rmse.append(nneighbor(tr_data,tt_data,2))\n",
    "        else:\n",
    "            output_rmse.append(knn(tr_data,tt_data,2,kn))\n",
    "        if verbose:\n",
    "            print \"K:\",fold+1,\"RMSE: \",output_rmse[-1]\n",
    "    if verbose:\n",
    "        print \"Time taken: \" + str(round(time.time() - start_time,2)) + \" seconds\"\n",
    "    return np.mean(output_rmse)        \n",
    "    \n",
    "kdata = [((tr[\"CRIM\"],tr[\"RM\"]),tr[\"MEDV\"]) for ind,tr in bdata_train.iterrows()]     \n",
    "k_fold_cross_validation(10,kdata,\"nneighbor\",1,True)\n",
    "    "
   ]
  },
  {
   "cell_type": "markdown",
   "metadata": {},
   "source": [
    "The average RMSE for the data set is 7.59. This is only for the training data set. The total time taken for the 10 fold cross validation is 0.98 sec"
   ]
  },
  {
   "cell_type": "markdown",
   "metadata": {},
   "source": [
    "###: K-Nearest Neighbors Algorithm"
   ]
  },
  {
   "cell_type": "code",
   "execution_count": 183,
   "metadata": {
    "collapsed": false
   },
   "outputs": [
    {
     "data": {
      "text/plain": [
       "6.3683098412622767"
      ]
     },
     "execution_count": 183,
     "metadata": {},
     "output_type": "execute_result"
    }
   ],
   "source": [
    "\"\"\"\n",
    "Function\n",
    "--------\n",
    "knn\n",
    "\n",
    "Given a training_data and test data find the k nearest neighbor and calculate RMSE \n",
    "\n",
    "Parameters\n",
    "----------\n",
    "train_data : array\n",
    "    A list of tuples of features and an output for training \n",
    "    \n",
    "L : int\n",
    "    A number for calculating L norm \n",
    "    \n",
    "K : int\n",
    "    Number of neighbors to be considered  \n",
    "\n",
    "Returns\n",
    "-------\n",
    "rmse : int\n",
    "    The rmse of the test set\n",
    "\n",
    "Example\n",
    "-------\n",
    ">>> print knn(train,test,2,5)\n",
    "6.36\n",
    "\"\"\"\n",
    "def knn(train_data,test_data, L, K,verbose=False):\n",
    "    # Capture start time\n",
    "    start_time = time.time()\n",
    "    # Predict the K nearest neighbors\n",
    "    predicted_op=[]\n",
    "    # For each record in test data find K least distance y's\n",
    "    for row in test_data:\n",
    "        dist = [(distance(tr[0],row[0],L),tr[1]) for tr in train_data]\n",
    "#         dist = np.mean(sorted(dist,key=lambda t:t[0])[:K])\n",
    "        dist= [x[1] for x in (sorted(dist,key=lambda t:t[0])[:K])] \n",
    "#         print np.mean(dist)\n",
    "        predicted_op.append(np.mean(dist)) # Take mean of the nearest K values\n",
    "#     print predicted_op\n",
    "    rmse = compute_rmse(predicted_op,[t[1] for t in test_data])\n",
    "    if verbose:\n",
    "        print \"Time taken: \" + str(round(time.time() - start_time,2)) + \" seconds\"\n",
    "    return rmse\n",
    "\n",
    "# Test the function using 10 fold cross validation\n",
    "tr_data = [((tr[\"CRIM\"],tr[\"RM\"]),tr[\"MEDV\"]) for ind,tr in bdata_train.iterrows()]\n",
    "tt_data = [((tt[\"CRIM\"],tt[\"RM\"]),tt[\"MEDV\"]) for ind,tt in bdata_test.iterrows()]\n",
    "k_fold_cross_validation(10,tr_data,\"knn\",3)"
   ]
  },
  {
   "cell_type": "markdown",
   "metadata": {},
   "source": [
    "The RMSE for for KNN with k=3 using the 10 fold cross validation is 6.36"
   ]
  },
  {
   "cell_type": "markdown",
   "metadata": {},
   "source": [
    "###: Checking for the effect of varying K on the RMSE of the model."
   ]
  },
  {
   "cell_type": "code",
   "execution_count": 201,
   "metadata": {
    "collapsed": false
   },
   "outputs": [
    {
     "name": "stdout",
     "output_type": "stream",
     "text": [
      "K:  1 RMSE:  6.27021844927\n",
      "K:  2 RMSE:  5.7529522649\n",
      "K:  3 RMSE:  5.85172539052\n",
      "K:  4 RMSE:  5.69614088204\n",
      "K:  5 RMSE:  5.70485023736\n",
      "K:  6 RMSE:  5.7416218371\n",
      "K:  7 RMSE:  5.79247809632\n",
      "K:  8 RMSE:  5.78187155311\n",
      "K:  9 RMSE:  5.83513618505\n",
      "K:  10 RMSE:  5.78962677309\n",
      "K:  11 RMSE:  5.79436340383\n",
      "K:  12 RMSE:  5.8743862947\n",
      "K:  13 RMSE:  5.89934062738\n",
      "K:  14 RMSE:  5.88353122877\n",
      "K:  15 RMSE:  5.93910304189\n",
      "K:  16 RMSE:  6.02069038835\n",
      "K:  17 RMSE:  5.97558690211\n",
      "K:  18 RMSE:  5.99859328819\n",
      "K:  19 RMSE:  6.03454028647\n",
      "K:  20 RMSE:  6.06738736188\n",
      "K:  21 RMSE:  6.0916149615\n",
      "K:  22 RMSE:  6.08124481703\n",
      "K:  23 RMSE:  6.09916289201\n",
      "K:  24 RMSE:  6.12261993531\n",
      "K:  25 RMSE:  6.16320278768\n"
     ]
    }
   ],
   "source": [
    "# Calculate RMSE for K 1-25\n",
    "tr_data = [((tr[\"CRIM\"],tr[\"RM\"],tr[\"ZN\"],tr[\"DIS\"],tr[\"TAX\"],tr[\"AGE\"]),tr[\"MEDV\"]) for ind,tr in bdata_train_normalized.iterrows()]\n",
    "krmse=[]\n",
    "for i in xrange(1,26):\n",
    "    krmse.append(k_fold_cross_validation(10,tr_data,\"knn\",i))\n",
    "    print \"K: \",i,\"RMSE: \",krmse[-1]"
   ]
  },
  {
   "cell_type": "code",
   "execution_count": 206,
   "metadata": {
    "collapsed": false
   },
   "outputs": [
    {
     "data": {
      "image/png": "[encoded data removed]",
      "text/plain": [
       "<matplotlib.figure.Figure at 0xb652f30>"
      ]
     },
     "metadata": {},
     "output_type": "display_data"
    }
   ],
   "source": [
    "# plt.plot(krmse)\n",
    "dim = np.arange(1,25,1)\n",
    "ax = plt.subplot(111)\n",
    "d = [ i for i in xrange(1,26)]\n",
    "ax.plot(d,krmse,color=\"g\")\n",
    "# Set the labels\n",
    "ax.set_ylabel(\"RMSE\")\n",
    "ax.set_xlabel(\"Value of K for KNN\")\n",
    "# Hide the right and top spines\n",
    "ax.xaxis.set_ticks(xrange(0,25,2))\n",
    "ax.spines['right'].set_visible(False)\n",
    "ax.spines['top'].set_visible(False)\n",
    "ax.set_title(\"Variation of RMSE for different values of K\")\n",
    "ax.tick_params(labelcolor='seagreen', top='off', right='off')\n"
   ]
  },
  {
   "cell_type": "markdown",
   "metadata": {},
   "source": [
    "From the graph above we can see that as the value of K increases, the value of RMSE first decreases, hits a low at k=4 and then increases again. Thus the best value of K for this model is 4."
   ]
  }
 ],
 "metadata": {
  "kernelspec": {
   "display_name": "Python 2",
   "language": "python",
   "name": "python2"
  },
  "language_info": {
   "codemirror_mode": {
    "name": "ipython",
    "version": 2
   },
   "file_extension": ".py",
   "mimetype": "text/x-python",
   "name": "python",
   "nbconvert_exporter": "python",
   "pygments_lexer": "ipython2",
   "version": "2.7.9"
  }
 },
 "nbformat": 4,
 "nbformat_minor": 0
}
